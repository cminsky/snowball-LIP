{
 "cells": [
  {
   "cell_type": "code",
   "execution_count": 10,
   "id": "73b503b1-e4ac-4f0d-9945-133e0f6a3b44",
   "metadata": {},
   "outputs": [],
   "source": [
    "from dependencies import *\n",
    "from background import *\n",
    "from model import *\n",
    "from defaults import *"
   ]
  },
  {
   "cell_type": "markdown",
   "id": "86b34e10-d27f-4f90-b04f-1468a505f918",
   "metadata": {},
   "source": [
    "### Choose parameters to make key features visually apparent"
   ]
  },
  {
   "cell_type": "code",
   "execution_count": 11,
   "id": "1a17ed50-aba0-4dda-823e-8439af2b6bc8",
   "metadata": {},
   "outputs": [],
   "source": [
    "t_Earth = 719.\n",
    "A0 = 10e12\n",
    "\n",
    "## LIP emplacement characteristics\n",
    "B0 = 0.5e2 # LIP height [m]\n",
    "erup_freq = 3e5/1e6 # eruption frequency [Myr]\n",
    "emp_dur = 1\n",
    "degass = 0.5 # [examol C]\n",
    "\n",
    "## Rock weathering characteristics\n",
    "P0 = 400 # optimal saprolite production [m/Myr]\n",
    "E_P = 0.01 # E/P ratio\n",
    "c = 1 # E relief feedback sensitivity\n",
    "\n",
    "## Background climate \n",
    "V = 6\n",
    "N0 = N_t(t_Earth)\n",
    "\n",
    "## Climate sensitivities\n",
    "n = 0.5 # global weathering feedback strength []\n",
    "n_p = 0.5 # LIP weathering feedback strength []\n",
    "n_e = 0.5 # LIP erosion feedback strength []\n",
    "\n",
    "## Temperature response\n",
    "T0 = 288 # surface temp [K]\n",
    "b = 5.35"
   ]
  },
  {
   "cell_type": "markdown",
   "id": "c59d3af1-4f4c-4046-b61d-5c15b77af9e5",
   "metadata": {},
   "source": [
    "### Run the model"
   ]
  },
  {
   "cell_type": "code",
   "execution_count": 12,
   "id": "c3c8cf23-a836-41bf-89b0-0377c0c9f11e",
   "metadata": {},
   "outputs": [],
   "source": [
    "t_max = 2.\n",
    "t,N,B,H,P,E,degass_arr = run_model(dt=dt,t_max=t_max, # Model setup\n",
    "                           emp_dur=emp_dur,A0=A0, # LIP emplacement characteristics\n",
    "                           B0=B0,erup_freq=erup_freq, # LIP emplacement characteristics\n",
    "                           degass=degass, # LIP degassing characteristics\n",
    "                           P0=P0,E_P=E_P,d=d,c=c,Xm=Xm, # Rock weathering characteristics\n",
    "                           N0=N0,V=V, # Background climate\n",
    "                           n=n,n_p=n_p,n_e=n_e, # Feedback sensitivities\n",
    "                           prognostics=True\n",
    "                          )\n",
    "\n",
    "T = T0+x(N,N0,b,a)"
   ]
  },
  {
   "cell_type": "markdown",
   "id": "66c0672c-64f0-4bdb-958d-27a2b5f96d87",
   "metadata": {},
   "source": [
    "### Plot"
   ]
  },
  {
   "cell_type": "code",
   "execution_count": 13,
   "id": "5be5fc09-0261-43f7-837c-b18dc1fc858c",
   "metadata": {},
   "outputs": [],
   "source": [
    "plt.rcParams.update({'legend.fontsize':12,\n",
    "                     'font.size':14,\n",
    "                     'lines.linewidth':2})"
   ]
  },
  {
   "cell_type": "code",
   "execution_count": 14,
   "id": "3e667338-1474-4d51-9d63-cce7cd64f896",
   "metadata": {},
   "outputs": [],
   "source": [
    "import matplotlib.gridspec as gridspec\n",
    "\n",
    "plt.rcParams.update({'legend.fontsize':9,\n",
    "                     'font.size':9,\n",
    "                     'lines.linewidth':1,\n",
    "                     'axes.titlesize':9})"
   ]
  },
  {
   "cell_type": "code",
   "execution_count": 16,
   "id": "4719b63e-c02d-47fe-b18a-3e05b45deea3",
   "metadata": {},
   "outputs": [
    {
     "data": {
      "image/png": "[encoded data removed]",
      "text/plain": [
       "<Figure size 453.6x360 with 3 Axes>"
      ]
     },
     "metadata": {
      "needs_background": "light"
     },
     "output_type": "display_data"
    }
   ],
   "source": [
    "fig = plt.figure(figsize=(6.3,5)) \n",
    "gs = gridspec.GridSpec(2,2)\n",
    "\n",
    "ax1 = fig.add_subplot(gs[0, :])  # Span all columns on the first row\n",
    "ax2 = fig.add_subplot(gs[1, 0])  # Second row, first column\n",
    "ax3 = fig.add_subplot(gs[1, 1])  # Second row, second column\n",
    "\n",
    "ax1.set_title('A',loc='left',fontweight='bold')\n",
    "ax1.plot(t,T,color='k')\n",
    "ax1.set_ylabel('Temperature (K)')\n",
    "ax1.set_xlabel('Time (Myr)')\n",
    "\n",
    "ax2.set_title('B',loc='left',fontweight='bold')\n",
    "ax2.fill_between(t,0,B,color='grey',label='Unweathered\\nbasalt')\n",
    "ax2.fill_between(t,B,B+H,color='rosybrown',label='Regolith')\n",
    "ax2.set_ylabel('Height (m)')\n",
    "ax2.set_xlabel('Time (Myr)')\n",
    "ax2.legend(bbox_to_anchor=(0,0.44,0.96,0))\n",
    "\n",
    "#ax2a = ax2.twinx()\n",
    "#ax2a.plot(t,E,c='k',linestyle='--',alpha=0.5)\n",
    "#ax2a.set_ylabel('E (m/Myr)')\n",
    "\n",
    "ax3.set_title('C',loc='left',fontweight='bold')\n",
    "ax3.fill_between(t,0,H,color='rosybrown',label='Regolith')\n",
    "ax3.set_ylabel('Regolith thickness (m)')\n",
    "ax3.set_xlabel('Time (Myr)')\n",
    "\n",
    "#ax3a = ax3.twinx()\n",
    "#ax3a.plot(t,P,c='k',linestyle='--',alpha=0.5)\n",
    "#ax3a.set_ylabel('P (m/Myr)')\n",
    "\n",
    "plt.tight_layout()\n",
    "plt.savefig('figs/example_run'+'.jpg',format='jpg',bbox_inches='tight',dpi=600)\n",
    "plt.show()"
   ]
  },
  {
   "cell_type": "code",
   "execution_count": null,
   "id": "51228e89-96cb-4391-bfa6-4fcaa3f72998",
   "metadata": {},
   "outputs": [],
   "source": []
  },
  {
   "cell_type": "code",
   "execution_count": null,
   "id": "07a68094-c18a-4c2f-9c90-3a6847c9d8dd",
   "metadata": {},
   "outputs": [],
   "source": []
  },
  {
   "cell_type": "code",
   "execution_count": null,
   "id": "7bab3910-0b83-442e-bead-6fb3a794a240",
   "metadata": {},
   "outputs": [],
   "source": []
  }
 ],
 "metadata": {
  "kernelspec": {
   "display_name": "Python 3 (ipykernel)",
   "language": "python",
   "name": "python3"
  },
  "language_info": {
   "codemirror_mode": {
    "name": "ipython",
    "version": 3
   },
   "file_extension": ".py",
   "mimetype": "text/x-python",
   "name": "python",
   "nbconvert_exporter": "python",
   "pygments_lexer": "ipython3",
   "version": "3.9.12"
  }
 },
 "nbformat": 4,
 "nbformat_minor": 5
}
