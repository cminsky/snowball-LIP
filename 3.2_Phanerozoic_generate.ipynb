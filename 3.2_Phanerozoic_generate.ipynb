{
 "cells": [
  {
   "cell_type": "code",
   "execution_count": 1,
   "id": "2f9ee009-2ba8-40aa-bbe8-124eca4ee524",
   "metadata": {},
   "outputs": [],
   "source": [
    "from dependencies import *\n",
    "from defaults import *\n",
    "from model import *\n",
    "from MC_helpers import *\n",
    "from save_data import *\n",
    "from background import *"
   ]
  },
  {
   "cell_type": "markdown",
   "id": "dda11770-9a87-4b7b-b17e-0b9558e2e5eb",
   "metadata": {},
   "source": [
    "### Find the parameter space to use\n",
    "\n",
    "We want to simulate emplacement of other LIPs *only* in the parameter space where the Franklin causes a Snowball. This retrieves that parameter space."
   ]
  },
  {
   "cell_type": "code",
   "execution_count": 2,
   "id": "24aa7653-fb6f-4295-aa1f-50afab57bb3a",
   "metadata": {},
   "outputs": [
    {
     "name": "stdout",
     "output_type": "stream",
     "text": [
      "Generated parameter dictionary for 9363 runs\n"
     ]
    }
   ],
   "source": [
    "## read in the Franklin data\n",
    "\n",
    "# number of runs to analyze\n",
    "iters = 100_000\n",
    "iter_str = str(iters) if iters < 1000 else f\"{int(iters/1000)}k\"\n",
    "\n",
    "# read in file and get parameters\n",
    "filename = f\"data/Franklin_{iter_str}.nc\"\n",
    "\n",
    "with Dataset(filename, 'r') as ds:\n",
    "        params_group = ds.groups['params']\n",
    "        snowball_flag = ds.groups['stats'].variables['snowball_flag'][:]\n",
    "        params = {var_name: var[:][snowball_flag == 1] for var_name, var in params_group.variables.items()}\n",
    "\n",
    "# return variables to correct units for input into model\n",
    "params[\"A0\"] *= 1e12 # Mkm2 to m\n",
    "params[\"B0\"] *= 1e3 # km to m\n",
    "        \n",
    "# get rid of constructed variables       \n",
    "del params[\"E0\"]\n",
    "del params[\"erup_num\"]\n",
    "\n",
    "iters = len(params['dt'])\n",
    "print(f\"Generated parameter dictionary for {iters} runs\")\n",
    "\n",
    "# save these parameters\n",
    "params_baseline = params.copy()"
   ]
  },
  {
   "cell_type": "markdown",
   "id": "21414e83-86fa-4565-a605-a01f6597415d",
   "metadata": {},
   "source": [
    "### Franklin generation\n",
    "\n",
    "Generates datasets for the Franklin LIP with minimum and maximum area estimates. Since the areas of Phanerozoic LIPs are well-characterized and therefore have a single value, this allows for a more direct comparison of the probability distributions."
   ]
  },
  {
   "cell_type": "code",
   "execution_count": 3,
   "id": "bb6025f5-fa4b-4f9b-a67a-f483dd03236e",
   "metadata": {},
   "outputs": [
    {
     "name": "stdout",
     "output_type": "stream",
     "text": [
      "Running with area = 11 Mkm²\n",
      "Starting 9,363 iterations at 06:04 PM\n",
      "Estimating completion in 6 minutes at 06:11 PM\n",
      "    Completed 520/9,363 iterations after 30 seconds\n",
      "    Completed 1,064/9,363 iterations after 1 minutes\n",
      "    Completed 1,562/9,363 iterations after 1 minutes\n",
      "    Completed 2,083/9,363 iterations after 2 minutes\n",
      "    Completed 2,593/9,363 iterations after 2 minutes\n",
      "    Completed 3,111/9,363 iterations after 3 minutes\n",
      "    Completed 3,640/9,363 iterations after 3 minutes\n",
      "    Completed 4,180/9,363 iterations after 4 minutes\n",
      "    Completed 4,726/9,363 iterations after 4 minutes\n",
      "    Completed 5,223/9,363 iterations after 5 minutes\n",
      "    Completed 5,767/9,363 iterations after 5 minutes\n",
      "    Completed 6,308/9,363 iterations after 6 minutes\n"
     ]
    },
    {
     "name": "stderr",
     "output_type": "stream",
     "text": [
      "/Users/cminsky/Library/CloudStorage/OneDrive-HarvardUniversity/Res_Franklin/new_model/model.py:89: RuntimeWarning: invalid value encountered in scalar multiply\n",
      "  P_i *= y**n_p # climate dependence\n"
     ]
    },
    {
     "name": "stdout",
     "output_type": "stream",
     "text": [
      "    Completed 6,851/9,363 iterations after 6 minutes\n",
      "    Completed 7,395/9,363 iterations after 7 minutes\n",
      "    Completed 7,941/9,363 iterations after 7 minutes\n",
      "    Completed 8,466/9,363 iterations after 8 minutes\n",
      "    Completed 8,985/9,363 iterations after 8 minutes\n",
      "Completed 9,363 iterations after 8 minutes at 06:13 PM\n",
      "Data saved to data/Franklin_large.nc\n",
      "\n",
      "Average cooling: -13.37 K\n",
      "Late flag percentage: 100.00%\n",
      "Early flag percentage: 66.52%\n",
      "Snowball flag percentage: 33.48%\n"
     ]
    }
   ],
   "source": [
    "# Large Franklin\n",
    "A0_max = np.max(param_ranges['A0'])\n",
    "print(f\"Running with area = {A0_max/1e12:0.0f} Mkm\\u00b2\")\n",
    "\n",
    "params = params_baseline.copy()\n",
    "params['A0'] = [A0_max]*iters\n",
    "\n",
    "t,T = run_model_iters_parallel(params)\n",
    "filename = f\"data/Franklin_large_filtered.nc\"\n",
    "save_data(filename,t,T,params,\n",
    "         description=\"Franklin with area fixed to max estimate\")\n",
    "print(\"\")\n",
    "summary_stats(filename)"
   ]
  },
  {
   "cell_type": "code",
   "execution_count": 3,
   "id": "3821aba6-4807-4d03-9055-d2560304d53f",
   "metadata": {},
   "outputs": [
    {
     "name": "stdout",
     "output_type": "stream",
     "text": [
      "Running with area = 3 Mkm²\n",
      "Starting 9,363 iterations at 08:43 PM\n",
      "Estimating completion in 6 minutes at 08:49 PM\n",
      "    Completed 315/9,363 iterations after 30 seconds\n",
      "    Completed 626/9,363 iterations after 1 minutes\n",
      "    Completed 970/9,363 iterations after 1 minutes\n",
      "    Completed 1,303/9,363 iterations after 2 minutes\n",
      "    Completed 1,663/9,363 iterations after 2 minutes\n",
      "    Completed 2,028/9,363 iterations after 3 minutes\n",
      "    Completed 2,388/9,363 iterations after 3 minutes\n",
      "    Completed 2,737/9,363 iterations after 4 minutes\n",
      "    Completed 3,093/9,363 iterations after 4 minutes\n",
      "    Completed 3,442/9,363 iterations after 5 minutes\n",
      "    Completed 3,800/9,363 iterations after 5 minutes\n",
      "    Completed 4,159/9,363 iterations after 6 minutes\n",
      "    Completed 4,529/9,363 iterations after 6 minutes\n",
      "    Completed 4,893/9,363 iterations after 7 minutes\n",
      "    Completed 5,232/9,363 iterations after 7 minutes\n",
      "    Completed 5,544/9,363 iterations after 8 minutes\n",
      "    Completed 5,832/9,363 iterations after 8 minutes\n",
      "    Completed 6,123/9,363 iterations after 9 minutes\n",
      "    Completed 6,418/9,363 iterations after 9 minutes\n",
      "    Completed 6,715/9,363 iterations after 10 minutes\n",
      "    Completed 7,016/9,363 iterations after 10 minutes\n",
      "    Completed 7,302/9,363 iterations after 11 minutes\n",
      "    Completed 7,571/9,363 iterations after 11 minutes\n",
      "    Completed 7,861/9,363 iterations after 12 minutes\n",
      "    Completed 8,148/9,363 iterations after 12 minutes\n",
      "    Completed 8,404/9,363 iterations after 13 minutes\n",
      "    Completed 8,672/9,363 iterations after 13 minutes\n",
      "    Completed 8,915/9,363 iterations after 14 minutes\n",
      "    Completed 9,184/9,363 iterations after 14 minutes\n",
      "Completed 9,363 iterations after 14 minutes at 08:58 PM\n",
      "Data saved to data/Franklin_small_filtered.nc\n",
      "\n",
      "Average cooling: -2.87 K\n",
      "Late flag percentage: 9.02%\n",
      "Early flag percentage: 0.00%\n",
      "Snowball flag percentage: 9.02%\n"
     ]
    }
   ],
   "source": [
    "# Small Franklin\n",
    "A0_min = np.min(param_ranges['A0'])\n",
    "print(f\"Running with area = {A0_min/1e12:0.0f} Mkm\\u00b2\")\n",
    "\n",
    "params = params_baseline.copy()\n",
    "params['A0'] = [A0_min]*iters\n",
    "\n",
    "t,T = run_model_iters_parallel(params)\n",
    "filename = f\"data/Franklin_small_filtered.nc\"\n",
    "save_data(filename,t,T,params,\n",
    "         description=\"Franklin with area fixed to min estimate\")\n",
    "print(\"\")\n",
    "summary_stats(filename)"
   ]
  },
  {
   "cell_type": "markdown",
   "id": "6bbeb63d-abcf-4cf2-87a0-84169677d941",
   "metadata": {},
   "source": [
    "### Phanerozoic LIP generation\n",
    "\n",
    "Runs simulations for Phanerozoic LIPs in the same parameter space, with background climate and LIP area specific to each LIP."
   ]
  },
  {
   "cell_type": "code",
   "execution_count": 4,
   "id": "f5d41599-2423-450e-9c54-e315bceaf916",
   "metadata": {},
   "outputs": [],
   "source": [
    "def generate_LIP_filtered(LIP_name,t_Earth,A0,\n",
    "                          iters=iters,params_baseline=params_baseline,\n",
    "                          print_progress=True):\n",
    "    # get background climate\n",
    "    N0,V,T0 = background_ranges(t_Earth,iters)\n",
    "    if t_Earth <= 419:\n",
    "        N0 = Foster_CO2(t_Earth,iters)\n",
    "    if t_Earth <= 540:\n",
    "        T0 = Scotese_T(t_Earth,iters)\n",
    "    \n",
    "    # print average background climate conditions\n",
    "    if print_progress:\n",
    "        CO2 = 280*(N0/2.83)**2\n",
    "        print(f\"Mean pCO2: {np.mean(CO2):0.0f} ppm, T: {np.mean(T0):0.0f} K\")\n",
    "\n",
    "    # update parameter set\n",
    "    params = params_baseline.copy()\n",
    "    params['N0'] = N0\n",
    "    params['V'] = V\n",
    "    params['T0'] = T0\n",
    "    params['A0'] = [A0] * iters # LIP area [m2]\n",
    "    \n",
    "    # run model\n",
    "    t,T = run_model_iters_parallel(params)\n",
    "    filename = f\"data/{LIP_name}_filtered.nc\"\n",
    "    save_data(filename,t,T,params,print_progress=print_progress,\n",
    "             description=\"Standard CAMP run with degassing fixed at 3.73 examol CO2 and erosion sampled randomly.\")\n",
    "    \n",
    "    # print summary statistics\n",
    "    if print_progress:\n",
    "        print(\"\")\n",
    "        summary_stats(filename)"
   ]
  },
  {
   "cell_type": "code",
   "execution_count": 7,
   "id": "9febd939-a7d6-498e-aad3-d8af2a1688cc",
   "metadata": {},
   "outputs": [
    {
     "name": "stdout",
     "output_type": "stream",
     "text": [
      "Mean pCO2: 1717 ppm, T: 295 K\n",
      "Starting 9,363 iterations at 08:00 PM\n",
      "Estimating completion in 6 minutes at 08:07 PM\n",
      "    Completed 401/9,363 iterations after 30 seconds\n",
      "    Completed 782/9,363 iterations after 1 minutes\n",
      "    Completed 1,154/9,363 iterations after 1 minutes\n",
      "    Completed 1,548/9,363 iterations after 2 minutes\n",
      "    Completed 1,972/9,363 iterations after 2 minutes\n",
      "    Completed 2,391/9,363 iterations after 3 minutes\n",
      "    Completed 2,821/9,363 iterations after 3 minutes\n",
      "    Completed 3,241/9,363 iterations after 4 minutes\n",
      "    Completed 3,666/9,363 iterations after 4 minutes\n",
      "    Completed 4,085/9,363 iterations after 5 minutes\n",
      "    Completed 4,503/9,363 iterations after 5 minutes\n",
      "    Completed 4,911/9,363 iterations after 6 minutes\n",
      "    Completed 5,332/9,363 iterations after 6 minutes\n",
      "    Completed 5,733/9,363 iterations after 7 minutes\n",
      "    Completed 6,139/9,363 iterations after 7 minutes\n",
      "    Completed 6,575/9,363 iterations after 8 minutes\n"
     ]
    },
    {
     "name": "stderr",
     "output_type": "stream",
     "text": [
      "/Users/cminsky/Library/CloudStorage/OneDrive-HarvardUniversity/Res_Franklin/new_model/model.py:89: RuntimeWarning: invalid value encountered in scalar multiply\n",
      "  P_i *= y**n_p # climate dependence\n"
     ]
    },
    {
     "name": "stdout",
     "output_type": "stream",
     "text": [
      "    Completed 7,023/9,363 iterations after 8 minutes\n",
      "    Completed 7,472/9,363 iterations after 9 minutes\n",
      "    Completed 7,926/9,363 iterations after 9 minutes\n",
      "    Completed 8,372/9,363 iterations after 10 minutes\n",
      "    Completed 8,804/9,363 iterations after 10 minutes\n",
      "    Completed 9,216/9,363 iterations after 11 minutes\n",
      "Completed 9,363 iterations after 11 minutes at 08:12 PM\n",
      "Saving results...\n",
      "Saving parameters...\n",
      "Data saved to data/CAMP_filtered.nc\n",
      "\n",
      "Average cooling: -14.04 K\n",
      "Late flag percentage: 30.47%\n",
      "Early flag percentage: 18.62%\n",
      "Snowball flag percentage: 11.86%\n"
     ]
    }
   ],
   "source": [
    "generate_LIP_filtered(LIP_name=\"CAMP\", # LIP name\n",
    "                      t_Earth = 201, # age [Mya]\n",
    "                      A0 = 11.46e12) # LIP area [m2]"
   ]
  },
  {
   "cell_type": "code",
   "execution_count": 6,
   "id": "6b348b47-8b15-44b2-8583-b1b0e8e3f2fe",
   "metadata": {},
   "outputs": [
    {
     "name": "stderr",
     "output_type": "stream",
     "text": [
      "/Users/cminsky/Library/CloudStorage/OneDrive-HarvardUniversity/Res_Franklin/new_model/background.py:68: RuntimeWarning: invalid value encountered in sqrt\n",
      "  N0 = N_pi*np.sqrt(CO2/ppm_pi) # surficial carbon [examol]\n"
     ]
    },
    {
     "name": "stdout",
     "output_type": "stream",
     "text": [
      "Mean pCO2: nan ppm, T: 292 K\n",
      "Starting 9,363 iterations at 07:49 PM\n",
      "Estimating completion in 6 minutes at 07:56 PM\n",
      "    Completed 403/9,363 iterations after 30 seconds\n",
      "    Completed 805/9,363 iterations after 1 minutes\n",
      "    Completed 1,185/9,363 iterations after 1 minutes\n",
      "    Completed 1,584/9,363 iterations after 2 minutes\n",
      "    Completed 2,018/9,363 iterations after 2 minutes\n",
      "    Completed 2,472/9,363 iterations after 3 minutes\n",
      "    Completed 2,899/9,363 iterations after 3 minutes\n",
      "    Completed 3,333/9,363 iterations after 4 minutes\n",
      "    Completed 3,769/9,363 iterations after 4 minutes\n",
      "    Completed 4,216/9,363 iterations after 5 minutes\n",
      "    Completed 4,662/9,363 iterations after 5 minutes\n",
      "    Completed 5,094/9,363 iterations after 6 minutes\n",
      "    Completed 5,524/9,363 iterations after 6 minutes\n",
      "    Completed 5,925/9,363 iterations after 7 minutes\n",
      "    Completed 6,338/9,363 iterations after 7 minutes\n",
      "    Completed 6,777/9,363 iterations after 8 minutes\n",
      "    Completed 7,221/9,363 iterations after 8 minutes\n",
      "    Completed 7,645/9,363 iterations after 9 minutes\n",
      "    Completed 8,049/9,363 iterations after 9 minutes\n",
      "    Completed 8,468/9,363 iterations after 10 minutes\n"
     ]
    },
    {
     "name": "stderr",
     "output_type": "stream",
     "text": [
      "/Users/cminsky/Library/CloudStorage/OneDrive-HarvardUniversity/Res_Franklin/new_model/model.py:89: RuntimeWarning: invalid value encountered in scalar multiply\n",
      "  P_i *= y**n_p # climate dependence\n"
     ]
    },
    {
     "name": "stdout",
     "output_type": "stream",
     "text": [
      "    Completed 8,898/9,363 iterations after 10 minutes\n",
      "    Completed 9,329/9,363 iterations after 11 minutes\n",
      "Completed 9,363 iterations after 11 minutes at 08:00 PM\n",
      "Saving results...\n",
      "Saving parameters...\n",
      "Data saved to data/Kola-Dnieper_filtered.nc\n",
      "\n",
      "Average cooling: -9.17 K\n",
      "Late flag percentage: 20.60%\n",
      "Early flag percentage: 6.39%\n",
      "Snowball flag percentage: 14.22%\n"
     ]
    }
   ],
   "source": [
    "generate_LIP_filtered(LIP_name=\"Kola-Dnieper\", # LIP name\n",
    "                      t_Earth = 380, # age [Mya]\n",
    "                      A0 = 5.9e12) # LIP area [m2]"
   ]
  },
  {
   "cell_type": "code",
   "execution_count": 5,
   "id": "97c2061c-120c-48f3-8633-575b2fd1b711",
   "metadata": {},
   "outputs": [
    {
     "name": "stdout",
     "output_type": "stream",
     "text": [
      "Mean pCO2: 938 ppm, T: 298 K\n",
      "Starting 9,363 iterations at 07:38 PM\n",
      "Estimating completion in 6 minutes at 07:45 PM\n",
      "    Completed 522/9,363 iterations after 30 seconds\n",
      "    Completed 1,036/9,363 iterations after 1 minutes\n",
      "    Completed 1,559/9,363 iterations after 1 minutes\n",
      "    Completed 2,053/9,363 iterations after 2 minutes\n",
      "    Completed 2,529/9,363 iterations after 2 minutes\n",
      "    Completed 2,930/9,363 iterations after 3 minutes\n",
      "    Completed 3,394/9,363 iterations after 3 minutes\n",
      "    Completed 3,862/9,363 iterations after 4 minutes\n",
      "    Completed 4,211/9,363 iterations after 4 minutes\n",
      "    Completed 4,584/9,363 iterations after 5 minutes\n",
      "    Completed 4,974/9,363 iterations after 5 minutes\n",
      "    Completed 5,333/9,363 iterations after 6 minutes\n",
      "    Completed 5,723/9,363 iterations after 6 minutes\n",
      "    Completed 6,130/9,363 iterations after 7 minutes\n",
      "    Completed 6,494/9,363 iterations after 7 minutes\n",
      "    Completed 6,919/9,363 iterations after 8 minutes\n",
      "    Completed 7,353/9,363 iterations after 8 minutes\n",
      "    Completed 7,764/9,363 iterations after 9 minutes\n",
      "    Completed 8,210/9,363 iterations after 9 minutes\n",
      "    Completed 8,590/9,363 iterations after 10 minutes\n",
      "    Completed 8,925/9,363 iterations after 10 minutes\n",
      "    Completed 9,348/9,363 iterations after 11 minutes\n",
      "Completed 9,363 iterations after 11 minutes at 07:49 PM\n",
      "Saving results...\n",
      "Saving parameters...\n",
      "Data saved to data/Kalkarindji_filtered.nc\n",
      "\n",
      "Average cooling: -5.64 K\n",
      "Late flag percentage: 2.29%\n",
      "Early flag percentage: 0.21%\n",
      "Snowball flag percentage: 2.07%\n"
     ]
    }
   ],
   "source": [
    "generate_LIP_filtered(LIP_name=\"Kalkarindji\", # LIP name\n",
    "                      t_Earth = 511, # age [Mya]\n",
    "                      A0 = 3.54e12) # LIP area [m2]"
   ]
  },
  {
   "cell_type": "code",
   "execution_count": null,
   "id": "e7c8c2aa-c8a8-4e6a-af85-8f0e453d843b",
   "metadata": {},
   "outputs": [],
   "source": []
  }
 ],
 "metadata": {
  "kernelspec": {
   "display_name": "Python 3 (ipykernel)",
   "language": "python",
   "name": "python3"
  },
  "language_info": {
   "codemirror_mode": {
    "name": "ipython",
    "version": 3
   },
   "file_extension": ".py",
   "mimetype": "text/x-python",
   "name": "python",
   "nbconvert_exporter": "python",
   "pygments_lexer": "ipython3",
   "version": "3.9.12"
  }
 },
 "nbformat": 4,
 "nbformat_minor": 5
}
