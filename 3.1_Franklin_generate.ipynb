{
 "cells": [
  {
   "cell_type": "code",
   "execution_count": 4,
   "id": "8378e065-6689-4d7f-a537-f7c58183bb8d",
   "metadata": {},
   "outputs": [],
   "source": [
    "from dependencies import *\n",
    "from defaults import *\n",
    "from model import *\n",
    "from background import *\n",
    "from MC_helpers import *\n",
    "from save_data import *"
   ]
  },
  {
   "cell_type": "code",
   "execution_count": 8,
   "id": "d2fc7ece-8c8c-49cf-b09c-b5f75c0b04e1",
   "metadata": {},
   "outputs": [
    {
     "name": "stdout",
     "output_type": "stream",
     "text": [
      "Starting 100 iterations at 09:33 AM\n",
      "Estimating completion in 4 seconds at 09:33 AM\n",
      "Completed 100 iterations after 3 seconds at 09:33 AM\n"
     ]
    }
   ],
   "source": [
    "# run model 100 times as a quick test\n",
    "\n",
    "iters = 100\n",
    "\n",
    "params = sample_params(iters,param_ranges,dt=dt,t_max=t_max)\n",
    "\n",
    "# add background climate\n",
    "t_Earth = 719 # Myr ago\n",
    "N0,V,T0 = background_ranges(t_Earth,iters)\n",
    "\n",
    "params['N0'] = N0\n",
    "params['V'] = V\n",
    "params['T0'] = T0\n",
    "\n",
    "t,T = run_model_iters_parallel(params)\n",
    "#filename = \"data/Franklin_100.nc\"\n",
    "#save_data(filename,t,T,params,\"test\")\n",
    "#summary_stats(filename)"
   ]
  },
  {
   "cell_type": "code",
   "execution_count": 2,
   "id": "c74e5b9e-b829-4500-88ec-92c386eacf4d",
   "metadata": {},
   "outputs": [
    {
     "name": "stdout",
     "output_type": "stream",
     "text": [
      "Starting 1,000 iterations at 01:35 PM\n",
      "Estimating completion in 40 seconds at 01:36 PM\n",
      "    Completed 261/1,000 iterations after 10 seconds\n",
      "    Completed 542/1,000 iterations after 20 seconds\n",
      "    Completed 822/1,000 iterations after 30 seconds\n",
      "Completed 1,000 iterations after 36 seconds at 01:36 PM\n",
      "Saving results...\n",
      "Saving parameters...\n",
      "Data saved to data/Franklin_1k.nc\n",
      "Analyzing, creating summary statistics...\n",
      "Late flag percentage: 28.10%\n",
      "Early flag percentage: 19.90%\n",
      "Snowball flag percentage: 8.20%\n",
      "Summary statistics added to data/Franklin_1k.nc\n"
     ]
    }
   ],
   "source": [
    "iters = 1_000\n",
    "\n",
    "params = sample_params(iters,param_ranges,dt=dt,t_max=t_max)\n",
    "\n",
    "# add background climate\n",
    "t_Earth = 719 # Myr ago\n",
    "N0,V,T0 = background_ranges(t_Earth,iters)\n",
    "\n",
    "params['N0'] = N0\n",
    "params['V'] = V\n",
    "params['T0'] = T0\n",
    "\n",
    "t,T = run_model_iters_parallel(params)\n",
    "filename = \"data/Franklin_1k.nc\"\n",
    "save_data(filename,t,T,params,\"test\")\n",
    "summary_stats(filename)"
   ]
  },
  {
   "cell_type": "code",
   "execution_count": 3,
   "id": "b2ef5d2b-a1b5-445d-8987-960bb7d8c6b8",
   "metadata": {},
   "outputs": [
    {
     "name": "stdout",
     "output_type": "stream",
     "text": [
      "Starting 10,000 iterations at 01:36 PM\n",
      "Estimating completion in 6 minutes at 01:42 PM\n",
      "    Completed 817/10,000 iterations after 30 seconds\n",
      "    Completed 1,664/10,000 iterations after 1 minutes\n",
      "    Completed 2,514/10,000 iterations after 1 minutes\n"
     ]
    },
    {
     "name": "stderr",
     "output_type": "stream",
     "text": [
      "/Users/cminsky/Library/CloudStorage/OneDrive-HarvardUniversity/Res_Franklin/new_model/model.py:76: RuntimeWarning: overflow encountered in scalar power\n",
      "  y = (N[-1]/N0)**2 # normalized atmospheric pCO2\n",
      "/Users/cminsky/Library/CloudStorage/OneDrive-HarvardUniversity/Res_Franklin/new_model/model.py:92: RuntimeWarning: invalid value encountered in scalar multiply\n",
      "  E_i *= y**n_e # climate dependence\n",
      "/Users/cminsky/Library/CloudStorage/OneDrive-HarvardUniversity/Res_Franklin/new_model/model.py:122: RuntimeWarning: overflow encountered in square\n",
      "  y = (N/N0)**2 # normalized pCO2\n"
     ]
    },
    {
     "name": "stdout",
     "output_type": "stream",
     "text": [
      "    Completed 3,357/10,000 iterations after 2 minutes\n",
      "    Completed 4,181/10,000 iterations after 2 minutes\n",
      "    Completed 5,008/10,000 iterations after 3 minutes\n",
      "    Completed 5,856/10,000 iterations after 3 minutes\n",
      "    Completed 6,702/10,000 iterations after 4 minutes\n",
      "    Completed 7,541/10,000 iterations after 4 minutes\n",
      "    Completed 8,388/10,000 iterations after 5 minutes\n",
      "    Completed 9,242/10,000 iterations after 5 minutes\n",
      "Completed 10,000 iterations after 5 minutes at 01:42 PM\n",
      "Saving results...\n",
      "Saving parameters...\n",
      "Data saved to data/Franklin_10k.nc\n",
      "Analyzing, creating summary statistics...\n",
      "Late flag percentage: 27.19%\n",
      "Early flag percentage: 17.77%\n",
      "Snowball flag percentage: 9.42%\n",
      "Summary statistics added to data/Franklin_10k.nc\n"
     ]
    }
   ],
   "source": [
    "iters = 10_000\n",
    "\n",
    "params = sample_params(iters,param_ranges,dt=dt,t_max=t_max)\n",
    "\n",
    "# add background climate\n",
    "t_Earth = 719 # Myr ago\n",
    "N0,V,T0 = background_ranges(t_Earth,iters)\n",
    "\n",
    "params['N0'] = N0\n",
    "params['V'] = V\n",
    "params['T0'] = T0\n",
    "\n",
    "t,T = run_model_iters_parallel(params)\n",
    "filename = \"data/Franklin_10k.nc\"\n",
    "save_data(filename,t,T,params,\"test\")\n",
    "summary_stats(filename)"
   ]
  },
  {
   "cell_type": "code",
   "execution_count": 5,
   "id": "6f23211f-c65f-41e8-ba2e-1529d01fdb5b",
   "metadata": {},
   "outputs": [
    {
     "name": "stdout",
     "output_type": "stream",
     "text": [
      "Starting 100,000 iterations at 04:01 PM\n",
      "Estimating completion in 66 minutes at 05:08 PM\n",
      "    Completed 3,195/100,000 iterations after 2 minutes\n",
      "    Completed 6,523/100,000 iterations after 4 minutes\n",
      "    Completed 9,793/100,000 iterations after 6 minutes\n",
      "    Completed 13,213/100,000 iterations after 8 minutes\n",
      "    Completed 16,618/100,000 iterations after 10 minutes\n",
      "    Completed 19,864/100,000 iterations after 12 minutes\n",
      "    Completed 23,268/100,000 iterations after 14 minutes\n",
      "    Completed 26,447/100,000 iterations after 16 minutes\n",
      "    Completed 29,765/100,000 iterations after 18 minutes\n",
      "    Completed 33,101/100,000 iterations after 20 minutes\n",
      "    Completed 36,410/100,000 iterations after 22 minutes\n",
      "    Completed 39,733/100,000 iterations after 24 minutes\n",
      "    Completed 43,059/100,000 iterations after 26 minutes\n",
      "    Completed 46,291/100,000 iterations after 28 minutes\n",
      "    Completed 49,643/100,000 iterations after 30 minutes\n",
      "    Completed 52,896/100,000 iterations after 32 minutes\n",
      "    Completed 56,087/100,000 iterations after 34 minutes\n",
      "    Completed 59,416/100,000 iterations after 36 minutes\n",
      "    Completed 62,795/100,000 iterations after 38 minutes\n",
      "    Completed 66,161/100,000 iterations after 40 minutes\n",
      "    Completed 69,539/100,000 iterations after 42 minutes\n",
      "    Completed 72,901/100,000 iterations after 44 minutes\n",
      "    Completed 76,224/100,000 iterations after 46 minutes\n",
      "    Completed 79,584/100,000 iterations after 48 minutes\n",
      "    Completed 82,869/100,000 iterations after 50 minutes\n",
      "    Completed 86,216/100,000 iterations after 52 minutes\n",
      "    Completed 89,541/100,000 iterations after 54 minutes\n",
      "    Completed 92,870/100,000 iterations after 56 minutes\n",
      "    Completed 96,103/100,000 iterations after 58 minutes\n",
      "    Completed 99,513/100,000 iterations after 60 minutes\n",
      "Completed 100,000 iterations after 60 minutes at 05:01 PM\n",
      "Saving results...\n",
      "Saving parameters...\n",
      "Data saved to data/Franklin_100k.nc\n"
     ]
    }
   ],
   "source": [
    "iters = 100_000\n",
    "\n",
    "params = sample_params(iters,param_ranges,dt=dt,t_max=t_max)\n",
    "\n",
    "# add background climate\n",
    "t_Earth = 719 # Myr ago\n",
    "N0,V,T0 = background_ranges(t_Earth,iters)\n",
    "\n",
    "params['N0'] = N0\n",
    "params['V'] = V\n",
    "params['T0'] = T0\n",
    "\n",
    "t,T = run_model_iters_parallel(params)\n",
    "filename = \"data/Franklin_100k.nc\"\n",
    "save_data(filename,t,T,params)"
   ]
  },
  {
   "cell_type": "code",
   "execution_count": 6,
   "id": "18b80a79-d625-445e-b407-2010b3d8a768",
   "metadata": {},
   "outputs": [
    {
     "name": "stdout",
     "output_type": "stream",
     "text": [
      "Analyzing, creating summary statistics...\n",
      "Late flag percentage: 27.36%\n",
      "Early flag percentage: 18.00%\n",
      "Snowball flag percentage: 9.36%\n",
      "Summary statistics added to data/Franklin_100k.nc\n"
     ]
    }
   ],
   "source": [
    "summary_stats(filename)"
   ]
  },
  {
   "cell_type": "code",
   "execution_count": null,
   "id": "d6ec6476-bf7d-49b3-9c07-cd6b81731ca4",
   "metadata": {},
   "outputs": [],
   "source": []
  }
 ],
 "metadata": {
  "kernelspec": {
   "display_name": "Python 3 (ipykernel)",
   "language": "python",
   "name": "python3"
  },
  "language_info": {
   "codemirror_mode": {
    "name": "ipython",
    "version": 3
   },
   "file_extension": ".py",
   "mimetype": "text/x-python",
   "name": "python",
   "nbconvert_exporter": "python",
   "pygments_lexer": "ipython3",
   "version": "3.9.12"
  }
 },
 "nbformat": 4,
 "nbformat_minor": 5
}
