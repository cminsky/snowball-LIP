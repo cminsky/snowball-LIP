{
 "cells": [
  {
   "cell_type": "code",
   "execution_count": 98,
   "id": "a83977ef-a77c-4387-b31c-6e0ed80da290",
   "metadata": {},
   "outputs": [],
   "source": [
    "from dependencies import *\n",
    "from save_data import *\n",
    "from defaults import *"
   ]
  },
  {
   "cell_type": "code",
   "execution_count": 99,
   "id": "0ba45fe0-243f-4798-9de9-d9a341edeb09",
   "metadata": {},
   "outputs": [],
   "source": [
    "# helper function to get differences in cooling between analogous model runs\n",
    "def get_min_diffs(filenames,print_progress=True,plot=True):\n",
    "    def get_min_temps(filename):\n",
    "        with Dataset(filename, \"r\") as ds:\n",
    "            min_T = ds.groups['stats'].variables['min_temp'][:]\n",
    "        return min_T\n",
    "    \n",
    "    if print_progress:\n",
    "        print(\"Fetching data for\",filenames[0][5:-3])\n",
    "    min_T1 = get_min_temps(filenames[0])\n",
    "    if print_progress:\n",
    "        print(\"Fetching data for\",filenames[1][5:-3])\n",
    "    min_T2 = get_min_temps(filenames[1])\n",
    "    \n",
    "    T_diffs = min_T1-min_T2\n",
    "    \n",
    "    if print_progress:\n",
    "        if np.nanmean(T_diffs) > 0:\n",
    "            print(filenames[1][5:-3],\"cools more than\",filenames[0][5:-3])\n",
    "        elif np.nanmean(T_diffs) < 0:\n",
    "            print(filenames[0][5:-3],\"cools more than\",filenames[1][5:-3])\n",
    "        print(f'Mean difference: {np.nanmean(T_diffs):0.2f} K')\n",
    "    \n",
    "    if plot:\n",
    "        fig,ax = plt.subplots()\n",
    "        ax.hist(T_diffs,bins=500)\n",
    "        ax.set_xlabel('Temp. diff. (K)')\n",
    "        ax.set_ylabel('Frequency')\n",
    "        return ax"
   ]
  },
  {
   "cell_type": "code",
   "execution_count": 100,
   "id": "de24c6ae-4fa8-49d6-ad46-b9e920477984",
   "metadata": {},
   "outputs": [],
   "source": [
    "# files to fetch\n",
    "iters = 10_000\n",
    "iter_str = str(iters) if iters < 1000 else f\"{int(iters/1000)}k\""
   ]
  },
  {
   "cell_type": "code",
   "execution_count": 101,
   "id": "d71f203b-c8aa-4f66-ad0d-ea4145865db5",
   "metadata": {},
   "outputs": [
    {
     "name": "stdout",
     "output_type": "stream",
     "text": [
      "Fetching data for CAMP_10k\n",
      "Fetching data for CAMP_nodegass_10k\n",
      "CAMP_nodegass_10k cools more than CAMP_10k\n",
      "Mean difference: 0.48 K\n"
     ]
    },
    {
     "data": {
      "image/png": "[encoded data removed]",
      "text/plain": [
       "<Figure size 432x288 with 1 Axes>"
      ]
     },
     "metadata": {
      "needs_background": "light"
     },
     "output_type": "display_data"
    }
   ],
   "source": [
    "# degassing comparison\n",
    "filenames_degass = [f\"data/CAMP_{iter_str}.nc\", f\"data/CAMP_nodegass_{iter_str}.nc\"]\n",
    "ax = get_min_diffs(filenames_degass)\n",
    "\n",
    "ax.set_title(\"High degassing vs. no degassing\")\n",
    "ax.set_xlim(-0.5,5)\n",
    "plt.show()"
   ]
  },
  {
   "cell_type": "code",
   "execution_count": 102,
   "id": "c271331b-614f-492b-bbae-3ac2d0582e14",
   "metadata": {},
   "outputs": [
    {
     "name": "stdout",
     "output_type": "stream",
     "text": [
      "Fetching data for CAMP_EP0_10k\n",
      "Fetching data for CAMP_EP1_10k\n",
      "CAMP_EP1_10k cools more than CAMP_EP0_10k\n",
      "Mean difference: 8.04 K\n"
     ]
    },
    {
     "data": {
      "image/png": "[encoded data removed]",
      "text/plain": [
       "<Figure size 432x288 with 1 Axes>"
      ]
     },
     "metadata": {
      "needs_background": "light"
     },
     "output_type": "display_data"
    }
   ],
   "source": [
    "# erosion comparison\n",
    "filenames_erosion = [f\"data/CAMP_EP0_{iter_str}.nc\", f\"data/CAMP_EP1_{iter_str}.nc\"]\n",
    "ax = get_min_diffs(filenames_erosion)\n",
    "\n",
    "ax.set_title(\"No erosion vs. kinetic-limited\")\n",
    "ax.set_xlim(-5,50)\n",
    "plt.show()"
   ]
  },
  {
   "cell_type": "code",
   "execution_count": 93,
   "id": "27efb690-c392-4dac-b575-7296d922d733",
   "metadata": {},
   "outputs": [],
   "source": [
    "# helper function to plot probability distributions\n",
    "def plot_temp_density(filenames, custom_labels=None, figname=None,\n",
    "                      normed=False, threshold=280,\n",
    "                      hist=False, kdeplot=True, fill=False,\n",
    "                      extra_labels=False, ax=None):\n",
    "    if ax is None:\n",
    "        fig, ax = plt.subplots(figsize=(4,2.5))\n",
    "    \n",
    "    for i, filename in enumerate(filenames):\n",
    "        # fetch data for each file\n",
    "        with Dataset(filename, \"r\") as ds:\n",
    "            if not normed:\n",
    "                min_T = ds.groups['stats'].variables['min_temp'][:]\n",
    "            else:\n",
    "                min_T = ds.groups['stats'].variables['min_normed_temp'][:]\n",
    "        \n",
    "        # filter out nans\n",
    "        min_T = min_T[~np.isnan(min_T)]\n",
    "        \n",
    "        # plot histogram if specified\n",
    "        if hist:\n",
    "            ax.hist(min_T, bins=100, density=True, alpha=0.3, histtype='step',\n",
    "                    label='binned data' if hist and kdeplot and extra_labels else None)\n",
    "        \n",
    "        linestyle = '-' if i == 0 else '--'  # solid line for first file, dashed for others\n",
    "        \n",
    "        # plot KDE if specified\n",
    "        if kdeplot:\n",
    "            kde = sns.kdeplot(min_T, ax=ax, bw_adjust=0.2 if normed else 1,\n",
    "                              clip=(min_T.min(), min_T.max()),\n",
    "                              label=custom_labels[i] if custom_labels else f'File {i+1}',\n",
    "                              linestyle=linestyle, color='black')\n",
    "            \n",
    "            if fill:\n",
    "                x_values = np.array(kde.get_lines()[0].get_xdata())\n",
    "                y_values = np.array(kde.get_lines()[0].get_ydata())\n",
    "                ax.fill_between(x_values, y_values, where=(x_values <= threshold),\n",
    "                                color='cadetblue', alpha=0.3)\n",
    "    \n",
    "    # Set plot limits and labels\n",
    "    ax.set_xlim(245, 290) if not normed else ax.set_xlim(-40, 10)\n",
    "    if threshold and threshold > ax.get_xlim()[0] and threshold < ax.get_xlim()[1]:\n",
    "        ax.axvline(threshold, color='cadetblue', label='Snowball threshold')\n",
    "        \n",
    "    #ax.set_xlabel('Minimum temperature (K) within 2.15 Myr') if not normed else ax.set_xlabel('Min. temperature anomaly ($\\Delta$K) within 2.15 Myr')\n",
    "    ax.set_ylabel('')\n",
    "    ax.set_yticks([])\n",
    "    ax.legend(loc='upper left', frameon=False)\n",
    "    \n",
    "    if figname and ax is None:\n",
    "        plt.tight_layout()\n",
    "        plt.savefig(figname + \".png\", format='png', bbox_inches='tight', dpi=600)\n",
    "        plt.show()"
   ]
  },
  {
   "cell_type": "code",
   "execution_count": 94,
   "id": "54a5a053-091a-4627-820b-ab54ecafbd2e",
   "metadata": {},
   "outputs": [],
   "source": [
    "plt.rcParams.update({'legend.fontsize': 7,\n",
    "                     'font.size': 9,\n",
    "                     'lines.linewidth': 1,\n",
    "                     'axes.titlesize': 9})"
   ]
  },
  {
   "cell_type": "code",
   "execution_count": 104,
   "id": "19f4a994-19c0-43a2-bda2-9b5e83907977",
   "metadata": {},
   "outputs": [
    {
     "data": {
      "image/png": "[encoded data removed]",
      "text/plain": [
       "<Figure size 453.6x180 with 2 Axes>"
      ]
     },
     "metadata": {
      "needs_background": "light"
     },
     "output_type": "display_data"
    }
   ],
   "source": [
    "fig, axs = plt.subplots(1, 2, figsize=(6.3,2.5))\n",
    "\n",
    "# degassing\n",
    "ax = axs[0]\n",
    "ax.set_title('A', loc='left', fontweight='bold')\n",
    "filenames = filenames_degass\n",
    "custom_labels = [\"High degassing\",\n",
    "                 \"No degassing\"]\n",
    "plot_temp_density(filenames=filenames,custom_labels=custom_labels,ax=ax)\n",
    "\n",
    "# erosion/topography\n",
    "ax = axs[1]\n",
    "ax.set_title('B', loc='left', fontweight='bold')\n",
    "filenames = filenames_erosion\n",
    "custom_labels = [\"No erosion\", # E$_0$/P$_0$=0\n",
    "                 \"Kinetic-limited weathering\" # E$_0$/P$_0$=1\n",
    "                ]\n",
    "plot_temp_density(filenames=filenames,custom_labels=custom_labels,ax=ax)\n",
    "\n",
    "# formatting\n",
    "fig.supxlabel('Minimum temperature anomaly (K) within 2.15 Myr',y=0.1,fontsize=12)\n",
    "axs[0].set_ylabel('Probability Density')\n",
    "    \n",
    "plt.tight_layout()\n",
    "plt.savefig('figs/CAMP'+'.jpg',format='jpg',bbox_inches='tight', dpi=600)\n",
    "plt.show()"
   ]
  },
  {
   "cell_type": "code",
   "execution_count": null,
   "id": "2ece0714-06bd-44ff-935c-4993375bdd14",
   "metadata": {},
   "outputs": [],
   "source": []
  },
  {
   "cell_type": "code",
   "execution_count": null,
   "id": "6c5b04d4-98ef-40a5-92fe-fbf937cd718a",
   "metadata": {},
   "outputs": [],
   "source": []
  },
  {
   "cell_type": "code",
   "execution_count": null,
   "id": "d7131826-24a8-400f-afa0-7768baa2e546",
   "metadata": {},
   "outputs": [],
   "source": []
  }
 ],
 "metadata": {
  "kernelspec": {
   "display_name": "Python 3 (ipykernel)",
   "language": "python",
   "name": "python3"
  },
  "language_info": {
   "codemirror_mode": {
    "name": "ipython",
    "version": 3
   },
   "file_extension": ".py",
   "mimetype": "text/x-python",
   "name": "python",
   "nbconvert_exporter": "python",
   "pygments_lexer": "ipython3",
   "version": "3.9.12"
  }
 },
 "nbformat": 4,
 "nbformat_minor": 5
}
