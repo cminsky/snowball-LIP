{
 "cells": [
  {
   "cell_type": "code",
   "execution_count": null,
   "id": "eac1ca2c-a9b3-4081-847e-dadf5792879a",
   "metadata": {},
   "outputs": [],
   "source": [
    "from dependencies import *\n",
    "from model import *\n",
    "from background import *\n",
    "from MC_helpers import *\n",
    "from save_data import *"
   ]
  },
  {
   "cell_type": "code",
   "execution_count": null,
   "id": "d60d3620-126b-40ee-89d1-a0dbd3736bf2",
   "metadata": {},
   "outputs": [],
   "source": [
    "iters = 100_000\n",
    "iter_str = str(iters) if iters < 1000 else f\"{int(iters/1000)}k\"\n",
    "\n",
    "params = sample_params(iters,param_ranges,dt=dt,t_max=t_max)\n",
    "\n",
    "# add background climate\n",
    "t_Earth = 201 # Myr ago\n",
    "N0,V,T0 = background_ranges(t_Earth,iters)\n",
    "\n",
    "params['N0'] = N0\n",
    "params['V'] = V\n",
    "params['T0'] = T0\n",
    "\n",
    "# modify for CAMP\n",
    "params['A0'] = [11.46e12] * iters # LIP area [m2]\n",
    "params['degass'] = [3.73] * iters # degassing [examol CO2]"
   ]
  },
  {
   "cell_type": "code",
   "execution_count": null,
   "id": "b19720f2-6686-4b16-ba8d-cd7ef15ee2fd",
   "metadata": {},
   "outputs": [],
   "source": [
    "t,T = run_model_iters_parallel(params)\n",
    "filename = f\"data/CAMP_{iter_str}.nc\"\n",
    "save_data(filename,t,T,params,\n",
    "         description=\"Standard CAMP run with degassing fixed at 3.73 examol CO2 and erosion sampled randomly.\")\n",
    "print(\"\")\n",
    "summary_stats(filename)"
   ]
  },
  {
   "cell_type": "code",
   "execution_count": null,
   "id": "cc1153c6-1ec6-4001-9820-7893bd2f6218",
   "metadata": {},
   "outputs": [],
   "source": [
    "# a version with no degassing\n",
    "params_no_degass = params.copy()\n",
    "params_no_degass['degass'] = [0] * iters\n",
    "\n",
    "t,T = run_model_iters_parallel(params_no_degass)\n",
    "filename = f\"data/CAMP_nodegass_{iter_str}.nc\"\n",
    "save_data(filename,t,T,params,\n",
    "         description=\"Standard CAMP run with no degassing and erosion sampled randomly.\")\n",
    "print(\"\")\n",
    "summary_stats(filename)"
   ]
  },
  {
   "cell_type": "code",
   "execution_count": null,
   "id": "097bfc9d-520a-4f19-b828-7595bb0457c8",
   "metadata": {},
   "outputs": [],
   "source": [
    "# a version with no erosion\n",
    "params_x = params.copy()\n",
    "params_x['E_P'] = [0] * iters\n",
    "\n",
    "t,T = run_model_iters_parallel(params_x)\n",
    "filename = f\"data/CAMP_EP0_{iter_str}.nc\"\n",
    "save_data(filename,t,T,params,\n",
    "         description=\"Standard CAMP run with no erosion.\")\n",
    "print(\"\")\n",
    "summary_stats(filename)"
   ]
  },
  {
   "cell_type": "code",
   "execution_count": null,
   "id": "d8bbf6c2-6287-4f8d-a5ea-b2c353c77487",
   "metadata": {},
   "outputs": [],
   "source": [
    "# a version with E_P = 1\n",
    "params_x = params.copy()\n",
    "params_x['E_P'] = [1] * iters\n",
    "\n",
    "t,T = run_model_iters_parallel(params_x)\n",
    "filename = f\"data/CAMP_EP1_{iter_str}.nc\"\n",
    "save_data(filename,t,T,params,\n",
    "         description=\"Standard CAMP run with E_P = 1.\")\n",
    "print(\"\")\n",
    "summary_stats(filename)"
   ]
  },
  {
   "cell_type": "code",
   "execution_count": null,
   "id": "da86a474-593b-47c7-9bf7-76e0ae1e130d",
   "metadata": {},
   "outputs": [],
   "source": []
  }
 ],
 "metadata": {
  "kernelspec": {
   "display_name": "Python 3 (ipykernel)",
   "language": "python",
   "name": "python3"
  },
  "language_info": {
   "codemirror_mode": {
    "name": "ipython",
    "version": 3
   },
   "file_extension": ".py",
   "mimetype": "text/x-python",
   "name": "python",
   "nbconvert_exporter": "python",
   "pygments_lexer": "ipython3",
   "version": "3.9.12"
  }
 },
 "nbformat": 4,
 "nbformat_minor": 5
}
