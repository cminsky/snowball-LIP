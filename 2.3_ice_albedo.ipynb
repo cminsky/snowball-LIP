{
 "cells": [
  {
   "cell_type": "code",
   "execution_count": 17,
   "id": "0106bfc7-ddcb-4064-861b-d5208e54b841",
   "metadata": {},
   "outputs": [],
   "source": [
    "from dependencies import *"
   ]
  },
  {
   "cell_type": "code",
   "execution_count": 18,
   "id": "3988759a-055d-4fbb-8c66-ae0c1b97b314",
   "metadata": {},
   "outputs": [
    {
     "name": "stdout",
     "output_type": "stream",
     "text": [
      "0.72 billion years ago\n",
      "the Sun was 94% as bright as now\n",
      "i.e. the solar constant was 1279 W/m2\n",
      "and absorbed solar radiation (ASR) was 224 W/m2\n",
      "we therefore assume pCO2 was 4075 ppm\n"
     ]
    }
   ],
   "source": [
    "# solar luminosity\n",
    "t_Earth = 0.72 # Gya\n",
    "L_L0 = 1/(1+2/5*(1-(4.5-t_Earth)/4.5)) # Gough et al. 1981 equation for solar luminosity evolution\n",
    "S_Neo = L_L0*1361 # Neoproterozoic solar constant [W/m2]\n",
    "F_Neo = S_Neo/4*(1-0.3) # Neoproterozoic ASR [W/m2]\n",
    "\n",
    "# assume equilibrium pCO2 balances solar forcing\n",
    "F_diff = (1361-S_Neo)/4*(1-0.3) # difference in ASR\n",
    "pCO2_Neo = np.exp(F_diff/5.35)*280 # Neoproterozoic CO2 required to balance\n",
    "\n",
    "print(f\"{t_Earth} billion years ago\")\n",
    "print(f\"the Sun was {L_L0:0.0%} as bright as now\")\n",
    "print(f\"i.e. the solar constant was {S_Neo:0.0f} W/m2\")\n",
    "print(f\"and absorbed solar radiation (ASR) was {F_Neo:0.0f} W/m2\")\n",
    "print(f\"we therefore assume pCO2 was {pCO2_Neo:0.0f} ppm\")"
   ]
  },
  {
   "cell_type": "code",
   "execution_count": 19,
   "id": "98f2cc04-4dce-4ea6-bc4a-88fdd9e79cd1",
   "metadata": {},
   "outputs": [],
   "source": [
    "defaults = {\n",
    "    \"Ti\": 260,    # ice-covered temp [K]\n",
    "    \"To\": 295,    # ice-free temp [K]\n",
    "    \"ai\": 0.6,    # ice-covered albedo\n",
    "    \"ao\": 0.2,   # ice-free albedo\n",
    "    \"F\": 1285,    # solar constant\n",
    "    \"T0\": 288,    # initial temperature [K]\n",
    "    \"pCO20\": 280, # initial pCO2 [ppm]\n",
    "    \"b\": 5.35,    # CO2 radiative forcing coefficient [W/m2]\n",
    "    \"a_coeff\": 2, # temperature response to radiative forcing [W/m2/K]\n",
    "    \"S\": S_Neo,     # Neoproterozoic solar constant [W/m2]\n",
    "    \"pCO20\": pCO2_Neo  # assume CO2 balanced weaker solar forcing\n",
    "}"
   ]
  },
  {
   "cell_type": "code",
   "execution_count": 20,
   "id": "e7a53990-f655-47a3-aff0-93313b9bd39c",
   "metadata": {},
   "outputs": [],
   "source": [
    "# calculate radiative forcing\n",
    "\n",
    "def albedo_scalar(T, config=defaults):\n",
    "    Ti, To, ai, ao = config[\"Ti\"], config[\"To\"], config[\"ai\"], config[\"ao\"]\n",
    "    \n",
    "    if T <= Ti:\n",
    "        return ai\n",
    "    elif T < To:\n",
    "        return ao + (ai - ao) * (T - To)**2 / (Ti - To)**2\n",
    "    else:\n",
    "        return ao\n",
    "\n",
    "albedo = np.vectorize(albedo_scalar)"
   ]
  },
  {
   "cell_type": "code",
   "execution_count": 21,
   "id": "9d036946-b94d-4cad-8bc9-7f1f0912d7f2",
   "metadata": {},
   "outputs": [],
   "source": [
    "# compute radiative forcing\n",
    "\n",
    "# solar forcing\n",
    "def delS(a, config=defaults):\n",
    "    S,T0,Ti,To,ai,ao = config[\"S\"],config[\"T0\"],config[\"Ti\"],config[\"To\"],config[\"ai\"],config[\"ao\"]\n",
    "    \n",
    "    a0 = albedo(T0, config=config)\n",
    "    F0 = S * (1 - a0) / 4\n",
    "    F = S * (1 - a) / 4\n",
    "    return F - F0\n",
    "\n",
    "# CO2 forcing\n",
    "def delCO2(pCO2, config=None):\n",
    "    pCO20, b = config[\"pCO20\"], config[\"b\"]\n",
    "    \n",
    "    y = pCO2/pCO20\n",
    "    return b * np.log(y)\n",
    "\n",
    "# change in temperature\n",
    "def delT(a,pCO2,config=defaults):\n",
    "    a_coeff = config[\"a_coeff\"]\n",
    "    radS = delS(a=a, config=config) # solar forcing\n",
    "    radCO2 = delCO2(pCO2, config=config) # CO2 forcing\n",
    "    return (radS + radCO2) / a_coeff"
   ]
  },
  {
   "cell_type": "code",
   "execution_count": 22,
   "id": "d525aa53-58e9-4518-8c51-8de14bfaa82d",
   "metadata": {},
   "outputs": [],
   "source": [
    "# find equilibrium temperature\n",
    "def find_Teq(pCO2,\n",
    "             a0=0.3, # set to < ai to start in a snowball, >ao to start in ice-free state\n",
    "             threshold=0.1, # threshold for considering T stable [K]\n",
    "             max_iters=1000,\n",
    "             plot_evol=False, # keep track of T and albedo evolution\n",
    "             config=defaults):\n",
    "    T = T0 = config[\"T0\"]\n",
    "    a = a0\n",
    "    \n",
    "    if plot_evol:\n",
    "        T_arr = []\n",
    "        a_arr = []\n",
    "            \n",
    "    for i in range(max_iters):\n",
    "        # update radiative forcing and calculate T\n",
    "        x = delT(a=a, pCO2=pCO2, config=config)\n",
    "        new_T = T0 + x\n",
    "\n",
    "        # check if T has reached equilbrium\n",
    "        if abs(new_T - T) < threshold:\n",
    "            #print(new_T,T)\n",
    "            T = new_T\n",
    "            break\n",
    "\n",
    "        # update T and albedo\n",
    "        T = new_T\n",
    "        a = albedo(T, config=config)\n",
    "        \n",
    "        if plot_evol:\n",
    "            T_arr.append(T)\n",
    "            a_arr.append(a)\n",
    "                    \n",
    "    if plot_evol:\n",
    "        return np.array(T_arr),np.array(a_arr)\n",
    "    else:\n",
    "        return T\n",
    "    \n",
    "\n",
    "def find_gap(T_arr,pCO2_arr = None):\n",
    "    sorted_arr = np.sort(T_arr)\n",
    "    diff_arr = np.diff(sorted_arr)\n",
    "    gap_idx = np.argmax(diff_arr)\n",
    "    lower_max = sorted_arr[gap_idx]\n",
    "    upper_min = sorted_arr[gap_idx + 1]\n",
    "    if pCO2_arr is not None:\n",
    "        lower_max_pCO2 = pCO2_arr[gap_idx]\n",
    "        upper_min_pCO2 = pCO2_arr[gap_idx + 1]\n",
    "        return lower_max,upper_min,lower_max_pCO2,upper_min_pCO2\n",
    "    return lower_max,upper_min"
   ]
  },
  {
   "cell_type": "code",
   "execution_count": 23,
   "id": "d3161066-fc07-4039-89c7-fa5f95705f86",
   "metadata": {},
   "outputs": [
    {
     "name": "stdout",
     "output_type": "stream",
     "text": [
      "glaciation at 285.5 K, jumps to 226.2 K\n",
      "deglaciation at 204.4 K, jumps to 204.4 K\n"
     ]
    }
   ],
   "source": [
    "pCO2_arr = np.logspace(start=0,stop=7,num=10000)\n",
    "start_ice = []\n",
    "start_icefree = []\n",
    "\n",
    "for pCO2 in pCO2_arr:\n",
    "    start_ice.append(find_Teq(pCO2=pCO2,a0=1,config=defaults))\n",
    "    start_icefree.append(find_Teq(pCO2=pCO2,a0=0,config=defaults))\n",
    "        \n",
    "print('glaciation at %0.1f K, jumps to %0.1f K'%find_gap(start_icefree)[::-1])\n",
    "print('deglaciation at %0.1f K, jumps to %0.1f K'%find_gap(start_ice))"
   ]
  },
  {
   "cell_type": "code",
   "execution_count": 26,
   "id": "01dd1406-86c8-480b-8c6c-41929de4e150",
   "metadata": {},
   "outputs": [
    {
     "data": {
      "image/png": "[encoded data removed]",
      "text/plain": [
       "<Figure size 288x180 with 1 Axes>"
      ]
     },
     "metadata": {
      "needs_background": "light"
     },
     "output_type": "display_data"
    }
   ],
   "source": [
    "plt.rcParams.update({'legend.fontsize':9,\n",
    "                     'font.size':10,\n",
    "                     'lines.linewidth':1,\n",
    "                     'axes.titlesize':10})\n",
    "    \n",
    "fig,ax = plt.subplots(figsize=(4,2.5))\n",
    "ax.scatter(pCO2_arr,start_ice,s=0.1,c='k',#c='#10948a',\n",
    "           label='starting from ice-covered')\n",
    "ax.scatter(pCO2_arr,start_icefree,s=0.1,c='k',#c='#8b6d32',\n",
    "           label='starting from ice-free')\n",
    "ax.set_xscale('log')\n",
    "\n",
    "#ax.scatter(Neoproterozoic[\"pCO20\"],defaults[\"T0\"],c='k')\n",
    "\n",
    "ax.axhspan(220,260,alpha=0.2,color='turquoise',label='ice-covered')\n",
    "ax.axhspan(295,330,alpha=0.2,color='burlywood',label='ice-free')\n",
    "ax.set_ylim(220,330)\n",
    "ax.set_xlabel(\"pCO2 [ppm]\")\n",
    "ax.set_ylabel(\"Global temperature [K]\")\n",
    "ax.text(1e0,230,\"ice-covered\",c='#10948a')\n",
    "ax.text(1e0,320,\"ice-free\",c='#8b6d32')\n",
    "\n",
    "ax.axhline(280,c='grey',alpha=0.5)\n",
    "figname = \"figs/bifurcation\"\n",
    "plt.savefig(figname+'.jpg',format='jpg',bbox_inches='tight',dpi=600)\n",
    "plt.show()"
   ]
  },
  {
   "cell_type": "code",
   "execution_count": null,
   "id": "f1ed9c33-03aa-44e9-a895-784d5cfd1c61",
   "metadata": {},
   "outputs": [],
   "source": []
  },
  {
   "cell_type": "code",
   "execution_count": null,
   "id": "da3facbf-1cb2-4d49-895f-6ca772073dbb",
   "metadata": {},
   "outputs": [],
   "source": []
  }
 ],
 "metadata": {
  "kernelspec": {
   "display_name": "Python 3 (ipykernel)",
   "language": "python",
   "name": "python3"
  },
  "language_info": {
   "codemirror_mode": {
    "name": "ipython",
    "version": 3
   },
   "file_extension": ".py",
   "mimetype": "text/x-python",
   "name": "python",
   "nbconvert_exporter": "python",
   "pygments_lexer": "ipython3",
   "version": "3.9.12"
  }
 },
 "nbformat": 4,
 "nbformat_minor": 5
}
